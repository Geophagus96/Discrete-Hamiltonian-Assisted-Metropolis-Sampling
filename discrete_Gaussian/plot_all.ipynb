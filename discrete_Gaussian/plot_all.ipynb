{
 "cells": [
  {
   "cell_type": "code",
   "execution_count": 1,
   "metadata": {
    "vscode": {
     "languageId": "r"
    }
   },
   "outputs": [
    {
     "name": "stderr",
     "output_type": "stream",
     "text": [
      "Loading required package: pracma\n",
      "\n",
      "Loading required package: Rcpp\n",
      "\n"
     ]
    },
    {
     "name": "stderr",
     "output_type": "stream",
     "text": [
      "Loading required package: RcppArmadillo\n",
      "\n"
     ]
    }
   ],
   "source": [
    "method_name = c('MHU', 'GWG', 'NCG', 'AVG', 'V-DHAMS', 'O-DHAMS')\n",
    "display_names = c('Metropolis', 'GWG', 'NCG', 'AVG',  'V-DHAMS','O-DHAMS')\n",
    "source('algos.R')\n",
    "prob_tables = readRDS('probtable.RData')"
   ]
  },
  {
   "cell_type": "code",
   "execution_count": 2,
   "metadata": {
    "vscode": {
     "languageId": "r"
    }
   },
   "outputs": [],
   "source": [
    "#--- Specify the directory to store the plots\n",
    "wd = getwd()"
   ]
  },
  {
   "cell_type": "code",
   "execution_count": null,
   "metadata": {
    "vscode": {
     "languageId": "r"
    }
   },
   "outputs": [],
   "source": [
    "#--- nsample: number of draws per chain\n",
    "#    nplot: number of draws for trace plots\n",
    "#    ngaps: interval (gap) between draws to calculate metrics\n",
    "#    nrepeat: number of repeated chains\n",
    "#    nsize: (2*nsize+1) is the lattice size\n",
    "\n",
    "nsample = 15000\n",
    "nplot = 450\n",
    "ngaps = 300\n",
    "nrepeat = 100\n",
    "nsize = 10"
   ]
  },
  {
   "cell_type": "code",
   "execution_count": 4,
   "metadata": {
    "vscode": {
     "languageId": "r"
    }
   },
   "outputs": [],
   "source": [
    "#--- ESS functions \n",
    "ESS_2 = function(xss_multi){\n",
    "  ndim = dim(xss_multi)[2]\n",
    "  n = dim(xss_multi)[3]\n",
    "  m = dim(xss_multi)[1]\n",
    "  ess_2 = vector(length = ndim)\n",
    "  for(i in 1:ndim){\n",
    "    xss = xss_multi[,i,]\n",
    "    row_mean = rowMeans(xss)\n",
    "    W = 1/(m*(n-1))*sum(sweep(xss, 1, row_mean)^2)\n",
    "    B = n/(m-1)*sum((row_mean-mean(xss))^2)\n",
    "    ess_2[i] = n*W/B\n",
    "  }\n",
    "  return(ess_2)\n",
    "}\n",
    "\n",
    "ess_single = function(xs_energy){\n",
    "    m = nrow(xs_energy)\n",
    "    n = ncol(xs_energy)\n",
    "    row_mean = rowMeans(xs_energy)\n",
    "    W = 1/(m*(n-1))*sum(sweep(xs_energy, 1, row_mean)^2)\n",
    "    B = n/(m-1)*sum((row_mean-mean(xs_energy))^2)\n",
    "    ess = n*W/B\n",
    "    return(ess)\n",
    "}\n",
    "ns = ngaps*(1:(nsample/ngaps))\n",
    "sample_interval = ns\n",
    "\n"
   ]
  },
  {
   "cell_type": "code",
   "execution_count": 5,
   "metadata": {
    "vscode": {
     "languageId": "r"
    }
   },
   "outputs": [],
   "source": [
    "ave_accs = vector(length=length(method_name))\n",
    "ave_tv1 = matrix(vector(length = length(method_name)*length(sample_interval)), length(method_name), length(sample_interval))\n",
    "ave_tv2 = matrix(vector(length = length(method_name)*length(sample_interval)), length(method_name), length(sample_interval))\n",
    "ave_tv4 = matrix(vector(length = length(method_name)*length(sample_interval)), length(method_name), length(sample_interval))\n",
    "ave_tv1_var = matrix(vector(length = length(method_name)*length(sample_interval)), length(method_name), length(sample_interval))\n",
    "ave_tv2_var = matrix(vector(length = length(method_name)*length(sample_interval)), length(method_name), length(sample_interval))\n",
    "ave_tv4_var = matrix(vector(length = length(method_name)*length(sample_interval)), length(method_name), length(sample_interval))\n",
    "\n",
    "ave_ex_bias = matrix(vector(length = length(method_name)*length(sample_interval)), length(method_name), length(sample_interval))\n",
    "ave_ex2_bias = matrix(vector(length = length(method_name)*length(sample_interval)), length(method_name), length(sample_interval))\n",
    "ave_ex12_bias = matrix(vector(length = length(method_name)*length(sample_interval)), length(method_name), length(sample_interval))\n",
    "ave_ex_var = matrix(vector(length = length(method_name)*length(sample_interval)), length(method_name), length(sample_interval))\n",
    "ave_ex2_var = matrix(vector(length = length(method_name)*length(sample_interval)), length(method_name), length(sample_interval))\n",
    "ave_ex12_var = matrix(vector(length = length(method_name)*length(sample_interval)), length(method_name), length(sample_interval))\n",
    "\n",
    "ess2 = matrix(vector(length = length(method_name)*3), length(method_name), 3)\n",
    "xl = c(-nsize, nsize)\n",
    "yl = c(-nsize, nsize)\n",
    "\n",
    "optimal_params = list()\n",
    "ess2 = matrix(vector(length = length(method_name)*3), length(method_name), 3)\n",
    "xl = c(-nsize, nsize)\n",
    "yl = c(-nsize, nsize)\n",
    "\n",
    "for(i in 1:length(method_name)){\n",
    "  re = readRDS(paste(getwd(), '/disgau', method_name[i], '.RData', sep=''))\n",
    "  ave_accs[i] = re[[2]]\n",
    "  ave_tv1[i,] = re[[3]]\n",
    "  ave_tv2[i,] = re[[4]]\n",
    "  ave_ex_bias[i,] = re[[5]]\n",
    "  ave_ex_var[i,] = re[[6]]\n",
    "  ave_ex2_bias[i,] = re[[7]]\n",
    "  ave_ex2_var[i,] = re[[8]]\n",
    "  ave_ex12_bias[i,] = re[[9]]\n",
    "  ave_ex12_var[i,] = re[[10]]\n",
    "  ave_tv1_var[i,] = re[[11]]\n",
    "  ave_tv2_var[i,] = re[[12]]\n",
    "  ave_tv4[i,] = re[[13]]\n",
    "  ave_tv4_var[i,] = re[[14]]\n",
    "  ess2_re = ESS_2(re[[1]][,1,,])\n",
    "  ess2[i,] = c(min(ess2_re), median(ess2_re), max(ess2_re))\n",
    "  \n",
    "  optimal_params[[i]] = re[[18]]\n",
    "\n",
    "  #--- Trace plots of each sampler\n",
    "  png(paste(wd, '/trace', display_names[i], '.png', sep = ''), \n",
    "    width = 1600, height = 1200, res = 200)\n",
    "    par(mfrow = c(3,3), mar = c(4, 4, 2, 2))\n",
    "\n",
    "    for (j in 1:9) {\n",
    "      x_vals <- re[[1]][j,1,1,1:nplot] + 0.1 * rnorm(nplot)\n",
    "      y_vals <- re[[1]][j,1,2,1:nplot] + 0.1 * rnorm(nplot)\n",
    "    \n",
    "      plot(x_vals, y_vals, type = 'l',\n",
    "       xlim = xl, ylim = yl,\n",
    "       cex.lab = 1.5, xlab = '', ylab='')\n",
    "    }\n",
    "\n",
    "  dev.off()\n",
    "}\n",
    "\n"
   ]
  },
  {
   "cell_type": "code",
   "execution_count": 6,
   "metadata": {
    "vscode": {
     "languageId": "r"
    }
   },
   "outputs": [
    {
     "data": {
      "text/html": [
       "<strong>png:</strong> 2"
      ],
      "text/latex": [
       "\\textbf{png:} 2"
      ],
      "text/markdown": [
       "**png:** 2"
      ],
      "text/plain": [
       "png \n",
       "  2 "
      ]
     },
     "metadata": {},
     "output_type": "display_data"
    },
    {
     "data": {
      "text/html": [
       "<strong>png:</strong> 2"
      ],
      "text/latex": [
       "\\textbf{png:} 2"
      ],
      "text/markdown": [
       "**png:** 2"
      ],
      "text/plain": [
       "png \n",
       "  2 "
      ]
     },
     "metadata": {},
     "output_type": "display_data"
    },
    {
     "data": {
      "text/html": [
       "<strong>png:</strong> 2"
      ],
      "text/latex": [
       "\\textbf{png:} 2"
      ],
      "text/markdown": [
       "**png:** 2"
      ],
      "text/plain": [
       "png \n",
       "  2 "
      ]
     },
     "metadata": {},
     "output_type": "display_data"
    },
    {
     "data": {
      "text/html": [
       "<strong>png:</strong> 2"
      ],
      "text/latex": [
       "\\textbf{png:} 2"
      ],
      "text/markdown": [
       "**png:** 2"
      ],
      "text/plain": [
       "png \n",
       "  2 "
      ]
     },
     "metadata": {},
     "output_type": "display_data"
    },
    {
     "data": {
      "text/html": [
       "<strong>png:</strong> 2"
      ],
      "text/latex": [
       "\\textbf{png:} 2"
      ],
      "text/markdown": [
       "**png:** 2"
      ],
      "text/plain": [
       "png \n",
       "  2 "
      ]
     },
     "metadata": {},
     "output_type": "display_data"
    },
    {
     "data": {
      "text/html": [
       "<strong>png:</strong> 2"
      ],
      "text/latex": [
       "\\textbf{png:} 2"
      ],
      "text/markdown": [
       "**png:** 2"
      ],
      "text/plain": [
       "png \n",
       "  2 "
      ]
     },
     "metadata": {},
     "output_type": "display_data"
    },
    {
     "data": {
      "text/html": [
       "<strong>png:</strong> 2"
      ],
      "text/latex": [
       "\\textbf{png:} 2"
      ],
      "text/markdown": [
       "**png:** 2"
      ],
      "text/plain": [
       "png \n",
       "  2 "
      ]
     },
     "metadata": {},
     "output_type": "display_data"
    },
    {
     "data": {
      "text/html": [
       "<strong>png:</strong> 2"
      ],
      "text/latex": [
       "\\textbf{png:} 2"
      ],
      "text/markdown": [
       "**png:** 2"
      ],
      "text/plain": [
       "png \n",
       "  2 "
      ]
     },
     "metadata": {},
     "output_type": "display_data"
    },
    {
     "data": {
      "text/html": [
       "<strong>png:</strong> 2"
      ],
      "text/latex": [
       "\\textbf{png:} 2"
      ],
      "text/markdown": [
       "**png:** 2"
      ],
      "text/plain": [
       "png \n",
       "  2 "
      ]
     },
     "metadata": {},
     "output_type": "display_data"
    },
    {
     "data": {
      "text/html": [
       "<strong>png:</strong> 2"
      ],
      "text/latex": [
       "\\textbf{png:} 2"
      ],
      "text/markdown": [
       "**png:** 2"
      ],
      "text/plain": [
       "png \n",
       "  2 "
      ]
     },
     "metadata": {},
     "output_type": "display_data"
    },
    {
     "data": {
      "text/html": [
       "<strong>png:</strong> 2"
      ],
      "text/latex": [
       "\\textbf{png:} 2"
      ],
      "text/markdown": [
       "**png:** 2"
      ],
      "text/plain": [
       "png \n",
       "  2 "
      ]
     },
     "metadata": {},
     "output_type": "display_data"
    },
    {
     "data": {
      "text/html": [
       "<strong>png:</strong> 2"
      ],
      "text/latex": [
       "\\textbf{png:} 2"
      ],
      "text/markdown": [
       "**png:** 2"
      ],
      "text/plain": [
       "png \n",
       "  2 "
      ]
     },
     "metadata": {},
     "output_type": "display_data"
    }
   ],
   "source": [
    "# --- Plots:\n",
    "#     plot_tv1        : Averaged mean of TV distance for one-dimensional marginal distributions\n",
    "#     plot_tv2        : Averaged mean of TV distance for two-dimensional marginal distributions\n",
    "#     plot_tv4        : Averaged mean of TV distance for four-dimensional marginal distributions\n",
    "#     plot_tv1_var    : Averaged standard deviation of TV distance for one-dimensional marginals\n",
    "#     plot_tv2_var    : Averaged standard deviation of TV distance for two-dimensional marginals\n",
    "#     plot_tv4_var    : Averaged standard deviation of TV distance for four-dimensional marginals\n",
    "#     plot_ex1_bias   : Averaged squared bias in estimating E[x_i]\n",
    "#     plot_ex1_var    : Averaged variance in estimating E[x_i]\n",
    "#     plot_ex2_bias   : Averaged squared bias in estimating E[x_i²]\n",
    "#     plot_ex2_var    : Averaged variance in estimating E[x_i²]\n",
    "#     plot_ex12_bias  : Averaged squared bias in estimating E[x_i x_j]\n",
    "#     plot_ex12_var   : Averaged variance in estimating E[x_i x_j]\n",
    "\n",
    "colors_idx = 1:length(display_names)\n",
    "sample_interval = ngaps*(1:(nsample/ngaps)) \n",
    "png(paste(wd, \"/plot_tv1.png\", sep = ''), width = 1600, height = 1200, res = 200)\n",
    "plot(ns, ave_tv1[1,], ylim = c(0.0, 0.3), col = colors_idx[1], type = 'l',\n",
    "     lwd = 2.5, cex.lab = 1.4, cex.axis = 1.2,\n",
    "     xlab = 'Number of draws',\n",
    "     ylab = 'Mean of TV distance')\n",
    "for(i in 2:length(colors_idx)) {\n",
    "  lines(ns, ave_tv1[i,], col = colors_idx[i], lwd = 2.5)\n",
    "}\n",
    "legend('topright', legend = display_names, col = colors_idx,\n",
    "       lwd = 2.5, cex = 1.0, x.intersp = 1, y.intersp = 0.85)\n",
    "dev.off()\n",
    "\n",
    "png(paste(wd, \"/plot_tv2.png\",sep= ''), width = 1600, height = 1200, res = 200)\n",
    "plot(ns, ave_tv2[1,], ylim = c(0.05, 0.45), col = colors_idx[1], type = 'l',\n",
    "     lwd = 2.5, cex.lab = 1.4, cex.axis = 1.2,\n",
    "     xlab = 'Number of draws',\n",
    "     ylab = 'Mean of TV distance')\n",
    "for(i in 2:length(colors_idx)) {\n",
    "  lines(ns, ave_tv2[i,], col = colors_idx[i], lwd = 2.5)\n",
    "}\n",
    "legend('topright', legend = display_names, col = colors_idx,\n",
    "       lwd = 2.5, cex = 1.0, x.intersp = 1, y.intersp = 0.85)\n",
    "dev.off()\n",
    "\n",
    "png(paste(wd, \"/plot_tv1_var.png\", sep= ''), width = 1600, height = 1200, res = 200)\n",
    "plot(ns, ave_tv1_var[1,], ylim = c(0, 0.1), col = colors_idx[1], type = 'l',\n",
    "     lwd = 2.5, cex.lab = 1.4, cex.axis = 1.2,\n",
    "     xlab = 'Number of draws',\n",
    "     ylab = 'SD of TV distance')\n",
    "for(i in 2:length(colors_idx)) {\n",
    "  lines(ns, ave_tv1_var[i,], col = colors_idx[i], lwd = 2.5)\n",
    "}\n",
    "legend('topright', legend = display_names, col = colors_idx,\n",
    "       lwd = 2.5, cex = 1.0, x.intersp = 1, y.intersp = 0.85)\n",
    "dev.off()\n",
    "\n",
    "png(paste(wd, \"/plot_tv2_var.png\", sep =''), width = 1600, height = 1200, res = 200)\n",
    "plot(ns, ave_tv2_var[1,], ylim = c(0.0, 0.1), col = colors_idx[1], type = 'l',\n",
    "     lwd = 2.5, cex.lab = 1.4, cex.axis = 1.2,\n",
    "     xlab = 'Number of draws',\n",
    "     ylab = 'SD of TV distance')\n",
    "for(i in 2:length(colors_idx)) {\n",
    "  lines(ns, ave_tv2_var[i,], col = colors_idx[i], lwd = 2.5)\n",
    "}\n",
    "legend('topright', legend = display_names, col = colors_idx,\n",
    "       lwd = 2.5, cex = 1.0, x.intersp = 1, y.intersp = 0.85)\n",
    "dev.off()\n",
    "\n",
    "png(paste(wd, \"/plot_ex_bias.png\", sep =''), width = 1600, height = 1200, res = 200)\n",
    "plot(ns, ave_ex_bias[1,], ylim = c(0.0, 0.2), col = colors_idx[1], type = 'l',\n",
    "     lwd = 2.5, cex.lab = 1.4, cex.axis = 1.2,\n",
    "     xlab = 'Number of draws',\n",
    "     ylab = 'Average squared bias')\n",
    "for(i in 2:length(colors_idx)) {\n",
    "  lines(ns, ave_ex_bias[i,], col = colors_idx[i], lwd = 2.5)\n",
    "}\n",
    "legend('topright', legend = display_names, col = colors_idx,\n",
    "       lwd = 2.5, cex = 1.0, x.intersp = 1, y.intersp = 0.85)\n",
    "dev.off()\n",
    "\n",
    "png(paste(wd, \"/plot_ex_var.png\", sep=''), width = 1600, height = 1200, res = 200)\n",
    "plot(ns, ave_ex_var[1,], ylim = c(0.0, 4), col = colors_idx[1], type = 'l',\n",
    "     lwd = 2.5, cex.lab = 1.4, cex.axis = 1.2,\n",
    "     xlab = 'Number of draws',\n",
    "     ylab = 'Average variance')\n",
    "for(i in 2:length(colors_idx)) {\n",
    "  lines(ns, ave_ex_var[i,], col = colors_idx[i], lwd = 2.5)\n",
    "}\n",
    "legend('topright', legend = display_names, col = colors_idx,\n",
    "       lwd = 2.5, cex = 1.0, x.intersp = 1, y.intersp = 0.85)\n",
    "dev.off()\n",
    "\n",
    "png(paste(wd, \"/plot_ex2_bias.png\", sep =''), width = 1600, height = 1200, res = 200)\n",
    "plot(ns, ave_ex2_bias[1,], ylim = c(0.0, 0.8), col = colors_idx[1], type = 'l',\n",
    "     lwd = 2.5, cex.lab = 1.4, cex.axis = 1.2,\n",
    "     xlab = 'Number of draws',\n",
    "     ylab = 'Average squared bias')\n",
    "for(i in 2:length(colors_idx)) {\n",
    "  lines(ns, ave_ex2_bias[i,], col = colors_idx[i], lwd = 2.5)\n",
    "}\n",
    "legend('topright', legend = display_names, col = colors_idx,\n",
    "       lwd = 2.5, cex = 1.0, x.intersp = 1, y.intersp = 0.85)\n",
    "dev.off()\n",
    "\n",
    "png(paste(wd, \"/plot_ex2_var.png\", sep =''), width = 1600, height = 1200, res = 200)\n",
    "plot(ns, ave_ex2_var[1,], ylim = c(0.0, 10), col = colors_idx[1], type = 'l',\n",
    "     lwd = 2.5, cex.lab = 1.4, cex.axis = 1.2,\n",
    "     xlab = 'Number of draws',\n",
    "     ylab = 'Average variance')\n",
    "for(i in 2:length(colors_idx)) {\n",
    "  lines(ns, ave_ex2_var[i,], col = colors_idx[i], lwd = 2.5)\n",
    "}\n",
    "legend('bottomleft', legend = display_names, col = colors_idx,\n",
    "       lwd = 2.5, cex = 1.0, x.intersp = 1, y.intersp = 0.85)\n",
    "dev.off()\n",
    "\n",
    "png(paste(wd, \"/plot_ex12_bias.png\", sep=''), width = 1600, height = 1200, res = 200)\n",
    "plot(ns, ave_ex12_bias[1,], ylim = c(0, 0.8), col = colors_idx[1], type = 'l',\n",
    "     lwd = 2.5, cex.lab = 1.4, cex.axis = 1.2,\n",
    "     xlab = 'Number of draws',\n",
    "     ylab = 'Average squared bias')\n",
    "for(i in 2:length(colors_idx)) {\n",
    "  lines(ns, ave_ex12_bias[i,], col = colors_idx[i], lwd = 2.5)\n",
    "}\n",
    "legend('topright', legend = display_names, col = colors_idx,\n",
    "       lwd = 2.5, cex = 1.0, x.intersp = 1, y.intersp = 0.85)\n",
    "dev.off()\n",
    "\n",
    "png(paste(wd,\"/plot_ex12_var.png\", sep=''), width = 1600, height = 1200, res = 200)\n",
    "plot(ns, ave_ex12_var[1,], ylim = c(0.0, 10), col = colors_idx[1], type = 'l',\n",
    "     lwd = 2.5, cex.lab = 1.4, cex.axis = 1.2,\n",
    "     xlab = 'Number of draws',\n",
    "     ylab = 'Average variance')\n",
    "for(i in 2:length(colors_idx)) {\n",
    "  lines(ns, ave_ex12_var[i,], col = colors_idx[i], lwd = 2.5)\n",
    "}\n",
    "legend('bottomleft', legend = display_names, col = colors_idx,\n",
    "       lwd = 2.5, cex = 1.0, x.intersp = 1, y.intersp = 0.85)\n",
    "dev.off()\n",
    "\n",
    "\n",
    "png(paste(wd, \"/plot_tv4.png\", sep=''), width = 1600, height = 1200, res = 200)\n",
    "plot(ns, ave_tv4[1,],\n",
    "     ylim = c(0.35, 0.9),\n",
    "     col = colors_idx[1],\n",
    "     type = 'l',\n",
    "     lwd = 2.5,\n",
    "     cex.lab = 1.4,\n",
    "     cex.axis = 1.2,\n",
    "     xlab = 'Number of draws',\n",
    "     ylab = 'Mean of TV distance')\n",
    "for (i in 2:length(colors_idx)) {\n",
    "  lines(ns, ave_tv4[i,], col = colors_idx[i], lwd = 2.5)\n",
    "}\n",
    "legend('topright',\n",
    "       legend = display_names,\n",
    "       col = colors_idx,\n",
    "       lwd = 2.5,\n",
    "       cex = 1.0,\n",
    "       x.intersp = 1,\n",
    "       y.intersp = 0.85)\n",
    "\n",
    "dev.off()\n",
    "\n",
    "\n",
    "png(paste(wd, \"/plot_tv4_var.png\", sep=''), width = 1600, height = 1200, res = 200)\n",
    "plot(ns, ave_tv4[1,],\n",
    "     ylim = c(0.06, 0.12),\n",
    "     col = colors_idx[1],\n",
    "     type = 'l',\n",
    "     lwd = 2.5,\n",
    "     cex.lab = 1.4,\n",
    "     cex.axis = 1.2,\n",
    "     xlab = 'Number of draws',\n",
    "     ylab = 'SD of TV distance')\n",
    "for (i in 2:length(colors_idx)) {\n",
    "  lines(ns, sqrt(ave_tv4_var[i,]), col = colors_idx[i], lwd = 2.5)\n",
    "}\n",
    "legend('topright',\n",
    "       legend = display_names,\n",
    "       col = colors_idx,\n",
    "       lwd = 2.5,\n",
    "       cex = 1.0,\n",
    "       x.intersp = 1,\n",
    "       y.intersp = 0.85)\n",
    "\n",
    "dev.off()"
   ]
  },
  {
   "cell_type": "code",
   "execution_count": 7,
   "metadata": {
    "vscode": {
     "languageId": "r"
    }
   },
   "outputs": [
    {
     "data": {
      "text/html": [
       "<table class=\"dataframe\">\n",
       "<caption>A matrix: 6 × 3 of type dbl</caption>\n",
       "<tbody>\n",
       "\t<tr><th scope=row>Metropolis</th><td> 4.672827</td><td> 4.723429</td><td> 4.806474</td></tr>\n",
       "\t<tr><th scope=row>GWG</th><td> 5.695278</td><td> 6.012534</td><td> 6.264694</td></tr>\n",
       "\t<tr><th scope=row>NCG</th><td>58.503608</td><td>58.965299</td><td>59.547089</td></tr>\n",
       "\t<tr><th scope=row>AVG</th><td>43.022052</td><td>43.671993</td><td>43.942492</td></tr>\n",
       "\t<tr><th scope=row>V-DHAMS</th><td>73.874787</td><td>75.087502</td><td>76.135479</td></tr>\n",
       "\t<tr><th scope=row>O-DHAMS</th><td>82.249031</td><td>82.726947</td><td>83.776725</td></tr>\n",
       "</tbody>\n",
       "</table>\n"
      ],
      "text/latex": [
       "A matrix: 6 × 3 of type dbl\n",
       "\\begin{tabular}{r|lll}\n",
       "\tMetropolis &  4.672827 &  4.723429 &  4.806474\\\\\n",
       "\tGWG &  5.695278 &  6.012534 &  6.264694\\\\\n",
       "\tNCG & 58.503608 & 58.965299 & 59.547089\\\\\n",
       "\tAVG & 43.022052 & 43.671993 & 43.942492\\\\\n",
       "\tV-DHAMS & 73.874787 & 75.087502 & 76.135479\\\\\n",
       "\tO-DHAMS & 82.249031 & 82.726947 & 83.776725\\\\\n",
       "\\end{tabular}\n"
      ],
      "text/markdown": [
       "\n",
       "A matrix: 6 × 3 of type dbl\n",
       "\n",
       "| Metropolis |  4.672827 |  4.723429 |  4.806474 |\n",
       "| GWG |  5.695278 |  6.012534 |  6.264694 |\n",
       "| NCG | 58.503608 | 58.965299 | 59.547089 |\n",
       "| AVG | 43.022052 | 43.671993 | 43.942492 |\n",
       "| V-DHAMS | 73.874787 | 75.087502 | 76.135479 |\n",
       "| O-DHAMS | 82.249031 | 82.726947 | 83.776725 |\n",
       "\n"
      ],
      "text/plain": [
       "           [,1]      [,2]      [,3]     \n",
       "Metropolis  4.672827  4.723429  4.806474\n",
       "GWG         5.695278  6.012534  6.264694\n",
       "NCG        58.503608 58.965299 59.547089\n",
       "AVG        43.022052 43.671993 43.942492\n",
       "V-DHAMS    73.874787 75.087502 76.135479\n",
       "O-DHAMS    82.249031 82.726947 83.776725"
      ]
     },
     "metadata": {},
     "output_type": "display_data"
    }
   ],
   "source": [
    "#--- Table of minimum, median and maximum of ESS across coordinate for each sample\n",
    "rownames(ess2) = display_names\n",
    "ess2"
   ]
  },
  {
   "cell_type": "code",
   "execution_count": 8,
   "metadata": {
    "vscode": {
     "languageId": "r"
    }
   },
   "outputs": [
    {
     "data": {
      "text/html": [
       "<dl>\n",
       "\t<dt>$Metropolis</dt>\n",
       "\t\t<dd><ol>\n",
       "\t<li><strong>$r</strong> = 2</li>\n",
       "</ol>\n",
       "</dd>\n",
       "\t<dt>$GWG</dt>\n",
       "\t\t<dd><ol>\n",
       "\t<li><strong>$r</strong> = 2</li>\n",
       "</ol>\n",
       "</dd>\n",
       "\t<dt>$NCG</dt>\n",
       "\t\t<dd><ol>\n",
       "\t<li><strong>$a</strong> = 3.5</li>\n",
       "</ol>\n",
       "</dd>\n",
       "\t<dt>$AVG</dt>\n",
       "\t\t<dd><ol>\n",
       "\t<li><strong>$a</strong> = 1.88</li>\n",
       "</ol>\n",
       "</dd>\n",
       "\t<dt>$`V-DHAMS`</dt>\n",
       "\t\t<dd><ol>\n",
       "\t<li><dl>\n",
       "\t<dt>$a</dt>\n",
       "\t\t<dd>0.9</dd>\n",
       "\t<dt>$b</dt>\n",
       "\t\t<dd>0.9</dd>\n",
       "\t<dt>$gamma</dt>\n",
       "\t\t<dd>1</dd>\n",
       "\t<dt>$c</dt>\n",
       "\t\t<dd>-0.5</dd>\n",
       "</dl>\n",
       "</li>\n",
       "</ol>\n",
       "</dd>\n",
       "\t<dt>$`O-DHAMS`</dt>\n",
       "\t\t<dd><ol>\n",
       "\t<li><dl>\n",
       "\t<dt>$a</dt>\n",
       "\t\t<dd>0.75</dd>\n",
       "\t<dt>$b</dt>\n",
       "\t\t<dd>0.9</dd>\n",
       "\t<dt>$gamma</dt>\n",
       "\t\t<dd>0.1</dd>\n",
       "\t<dt>$c</dt>\n",
       "\t\t<dd>-0.7</dd>\n",
       "</dl>\n",
       "</li>\n",
       "</ol>\n",
       "</dd>\n",
       "</dl>\n"
      ],
      "text/latex": [
       "\\begin{description}\n",
       "\\item[\\$Metropolis] \\begin{enumerate}\n",
       "\\item \\textbf{\\$r} = 2\n",
       "\\end{enumerate}\n",
       "\n",
       "\\item[\\$GWG] \\begin{enumerate}\n",
       "\\item \\textbf{\\$r} = 2\n",
       "\\end{enumerate}\n",
       "\n",
       "\\item[\\$NCG] \\begin{enumerate}\n",
       "\\item \\textbf{\\$a} = 3.5\n",
       "\\end{enumerate}\n",
       "\n",
       "\\item[\\$AVG] \\begin{enumerate}\n",
       "\\item \\textbf{\\$a} = 1.88\n",
       "\\end{enumerate}\n",
       "\n",
       "\\item[\\$`V-DHAMS`] \\begin{enumerate}\n",
       "\\item \\begin{description}\n",
       "\\item[\\$a] 0.9\n",
       "\\item[\\$b] 0.9\n",
       "\\item[\\$gamma] 1\n",
       "\\item[\\$c] -0.5\n",
       "\\end{description}\n",
       "\n",
       "\\end{enumerate}\n",
       "\n",
       "\\item[\\$`O-DHAMS`] \\begin{enumerate}\n",
       "\\item \\begin{description}\n",
       "\\item[\\$a] 0.75\n",
       "\\item[\\$b] 0.9\n",
       "\\item[\\$gamma] 0.1\n",
       "\\item[\\$c] -0.7\n",
       "\\end{description}\n",
       "\n",
       "\\end{enumerate}\n",
       "\n",
       "\\end{description}\n"
      ],
      "text/markdown": [
       "$Metropolis\n",
       ":   1. **$r** = 2\n",
       "\n",
       "\n",
       "\n",
       "$GWG\n",
       ":   1. **$r** = 2\n",
       "\n",
       "\n",
       "\n",
       "$NCG\n",
       ":   1. **$a** = 3.5\n",
       "\n",
       "\n",
       "\n",
       "$AVG\n",
       ":   1. **$a** = 1.88\n",
       "\n",
       "\n",
       "\n",
       "$`V-DHAMS`\n",
       ":   1. $a\n",
       ":   0.9\n",
       "$b\n",
       ":   0.9\n",
       "$gamma\n",
       ":   1\n",
       "$c\n",
       ":   -0.5\n",
       "\n",
       "\n",
       "\n",
       "\n",
       "\n",
       "\n",
       "$`O-DHAMS`\n",
       ":   1. $a\n",
       ":   0.75\n",
       "$b\n",
       ":   0.9\n",
       "$gamma\n",
       ":   0.1\n",
       "$c\n",
       ":   -0.7\n",
       "\n",
       "\n",
       "\n",
       "\n",
       "\n",
       "\n",
       "\n",
       "\n"
      ],
      "text/plain": [
       "$Metropolis\n",
       "$Metropolis[[1]]\n",
       "$Metropolis[[1]]$r\n",
       "[1] 2\n",
       "\n",
       "\n",
       "\n",
       "$GWG\n",
       "$GWG[[1]]\n",
       "$GWG[[1]]$r\n",
       "[1] 2\n",
       "\n",
       "\n",
       "\n",
       "$NCG\n",
       "$NCG[[1]]\n",
       "$NCG[[1]]$a\n",
       "[1] 3.5\n",
       "\n",
       "\n",
       "\n",
       "$AVG\n",
       "$AVG[[1]]\n",
       "$AVG[[1]]$a\n",
       "[1] 1.88\n",
       "\n",
       "\n",
       "\n",
       "$`V-DHAMS`\n",
       "$`V-DHAMS`[[1]]\n",
       "$`V-DHAMS`[[1]]$a\n",
       "[1] 0.9\n",
       "\n",
       "$`V-DHAMS`[[1]]$b\n",
       "[1] 0.9\n",
       "\n",
       "$`V-DHAMS`[[1]]$gamma\n",
       "[1] 1\n",
       "\n",
       "$`V-DHAMS`[[1]]$c\n",
       "[1] -0.5\n",
       "\n",
       "\n",
       "\n",
       "$`O-DHAMS`\n",
       "$`O-DHAMS`[[1]]\n",
       "$`O-DHAMS`[[1]]$a\n",
       "[1] 0.75\n",
       "\n",
       "$`O-DHAMS`[[1]]$b\n",
       "[1] 0.9\n",
       "\n",
       "$`O-DHAMS`[[1]]$gamma\n",
       "[1] 0.1\n",
       "\n",
       "$`O-DHAMS`[[1]]$c\n",
       "[1] -0.7\n",
       "\n",
       "\n"
      ]
     },
     "metadata": {},
     "output_type": "display_data"
    }
   ],
   "source": [
    "#--- Optimal parameters for each sample\n",
    "names(optimal_params) = display_names\n",
    "optimal_params"
   ]
  },
  {
   "cell_type": "code",
   "execution_count": 9,
   "metadata": {
    "vscode": {
     "languageId": "r"
    }
   },
   "outputs": [
    {
     "data": {
      "text/html": [
       "<style>\n",
       ".dl-inline {width: auto; margin:0; padding: 0}\n",
       ".dl-inline>dt, .dl-inline>dd {float: none; width: auto; display: inline-block}\n",
       ".dl-inline>dt::after {content: \":\\0020\"; padding-right: .5ex}\n",
       ".dl-inline>dt:not(:first-of-type) {padding-left: .5ex}\n",
       "</style><dl class=dl-inline><dt>Metropolis</dt><dd>0.732278666666667</dd><dt>GWG</dt><dd>0.712044</dd><dt>NCG</dt><dd>0.607080666666667</dd><dt>AVG</dt><dd>0.581871333333333</dd><dt>V-DHAMS</dt><dd>0.863279333333333</dd><dt>O-DHAMS</dt><dd>0.79426</dd></dl>\n"
      ],
      "text/latex": [
       "\\begin{description*}\n",
       "\\item[Metropolis] 0.732278666666667\n",
       "\\item[GWG] 0.712044\n",
       "\\item[NCG] 0.607080666666667\n",
       "\\item[AVG] 0.581871333333333\n",
       "\\item[V-DHAMS] 0.863279333333333\n",
       "\\item[O-DHAMS] 0.79426\n",
       "\\end{description*}\n"
      ],
      "text/markdown": [
       "Metropolis\n",
       ":   0.732278666666667GWG\n",
       ":   0.712044NCG\n",
       ":   0.607080666666667AVG\n",
       ":   0.581871333333333V-DHAMS\n",
       ":   0.863279333333333O-DHAMS\n",
       ":   0.79426\n",
       "\n"
      ],
      "text/plain": [
       "Metropolis        GWG        NCG        AVG    V-DHAMS    O-DHAMS \n",
       " 0.7322787  0.7120440  0.6070807  0.5818713  0.8632793  0.7942600 "
      ]
     },
     "metadata": {},
     "output_type": "display_data"
    }
   ],
   "source": [
    "#--- Acceptance rates for each sample\n",
    "names(ave_accs) = display_names\n",
    "ave_accs"
   ]
  },
  {
   "cell_type": "code",
   "execution_count": 10,
   "metadata": {
    "vscode": {
     "languageId": "r"
    }
   },
   "outputs": [
    {
     "name": "stdout",
     "output_type": "stream",
     "text": [
      "[1] \"MHU 180.496750670107\"\n",
      "[1] \"GWG 10.1215226546408\"\n",
      "[1] \"NCG 3388.4756491011\"\n",
      "[1] \"AVG 2254.73582630241\"\n",
      "[1] \"V-DHAMS 3841.0879101722\"\n",
      "[1] \"O-DHAMS 3167.07102160683\"\n"
     ]
    }
   ],
   "source": [
    "#--- Display the ESS of f(s) for each sampler\n",
    "for(i in 1:length(method_name)){\n",
    "  re = readRDS(paste(getwd(), '/disgau', method_name[i], '.RData', sep=''))\n",
    "  energies = apply(re[[1]][,1,,], c(1,3), energy)\n",
    "  print(paste(method_name[i], ess_single(energies)))\n",
    "}\n",
    "\n"
   ]
  },
  {
   "cell_type": "code",
   "execution_count": 11,
   "metadata": {
    "vscode": {
     "languageId": "r"
    }
   },
   "outputs": [],
   "source": [
    "#--- ACF plots for each sampler\n",
    "for(i in 1:length(method_name)){\n",
    "  re = readRDS(paste(wd, '/disgau', method_name[i], '.RData', sep=''))\n",
    "  energies = apply(re[[1]][,1,,], c(1,3), energy)\n",
    "  png(paste('/home/yz909/dis_Hams_present/output/dis_Gaussian/acf', display_names[i], '.png', sep = ''))\n",
    "  acf(energies[1, ], lag.max = 30, main= '')\n",
    "  dev.off()\n",
    "}"
   ]
  },
  {
   "cell_type": "code",
   "execution_count": 12,
   "metadata": {
    "vscode": {
     "languageId": "r"
    }
   },
   "outputs": [
    {
     "data": {
      "text/html": [
       "<strong>png:</strong> 2"
      ],
      "text/latex": [
       "\\textbf{png:} 2"
      ],
      "text/markdown": [
       "**png:** 2"
      ],
      "text/plain": [
       "png \n",
       "  2 "
      ]
     },
     "metadata": {},
     "output_type": "display_data"
    }
   ],
   "source": [
    "#--- Probability plot of the true one-dimensional marginal distribution \n",
    "\n",
    "png(paste(wd, '/freq_actual.png', sep=''), width = 1600, height = 1200, res = 200)\n",
    "plot(-nsize:nsize, as.numeric(prob_tables[[1]]), xlab ='', ylab = '', type = \"l\", ylim = c(0.0, 0.15))\n",
    "dev.off()"
   ]
  },
  {
   "cell_type": "code",
   "execution_count": 13,
   "metadata": {
    "vscode": {
     "languageId": "r"
    }
   },
   "outputs": [],
   "source": [
    "#--- Frequency plots of emprical one-dimensional distribution from each sampler\n",
    "\n",
    "for(i in 1:length(method_name)){\n",
    "  ndraw = 6500\n",
    "  re = readRDS(paste(wd, '/disgau', method_name[i], '.RData', sep=''))\n",
    "  sample = re[[1]][1,1,1,1:ndraw]\n",
    "  freq = table(sample)/ndraw\n",
    "  png(paste('/home/yz909/dis_Hams_present/output/dis_Gaussian/freq', display_names[i], '.png', sep = ''), width = 1600, height = 1200, res = 200)\n",
    "\n",
    "  plot(as.numeric(names(freq)), as.numeric(freq), type = \"l\",\n",
    "      ylim = c(0, 0.15), xlab='', ylab = '')\n",
    "\n",
    "  # Add remaining plots\n",
    "  for (j in 15:28) {\n",
    "      sample = re[[1]][j,1,1,1:ndraw]\n",
    "    freq <- table(sample)/ndraw\n",
    "    lines(as.numeric(names(freq)), as.numeric(freq))\n",
    "  }\n",
    "  dev.off()\n",
    "}"
   ]
  }
 ],
 "metadata": {
  "kernelspec": {
   "display_name": "R",
   "language": "R",
   "name": "ir"
  },
  "language_info": {
   "codemirror_mode": "r",
   "file_extension": ".r",
   "mimetype": "text/x-r-source",
   "name": "R",
   "pygments_lexer": "r",
   "version": "3.6.3"
  }
 },
 "nbformat": 4,
 "nbformat_minor": 2
}
