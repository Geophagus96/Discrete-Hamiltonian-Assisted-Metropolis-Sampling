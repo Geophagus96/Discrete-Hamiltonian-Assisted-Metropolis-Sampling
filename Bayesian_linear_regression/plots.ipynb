{
 "cells": [
  {
   "cell_type": "code",
   "execution_count": 1,
   "id": "aca736bb",
   "metadata": {
    "vscode": {
     "languageId": "r"
    }
   },
   "outputs": [],
   "source": [
    "re_pip_sd = readRDS('PIP_ds.RData')\n",
    "method_names = c('AVG', 'NCG', 'OutsideHams', 'OverrelaxedOutsideHams')\n",
    "display_names = c('AVG', 'NCG', 'V-DHAMS','O-DHAMS')\n",
    "ngaps = 1000\n",
    "sample_interval = ngaps*(1:(65000/ngaps)) \n",
    "\n"
   ]
  },
  {
   "cell_type": "code",
   "execution_count": 2,
   "id": "ab749884",
   "metadata": {
    "vscode": {
     "languageId": "r"
    }
   },
   "outputs": [],
   "source": [
    "#--- Specify working directory to output plots\n",
    "wd = getwd()"
   ]
  },
  {
   "cell_type": "code",
   "execution_count": null,
   "id": "49065843",
   "metadata": {
    "vscode": {
     "languageId": "r"
    }
   },
   "outputs": [
    {
     "data": {
      "text/html": [
       "<strong>png:</strong> 2"
      ],
      "text/latex": [
       "\\textbf{png:} 2"
      ],
      "text/markdown": [
       "**png:** 2"
      ],
      "text/plain": [
       "png \n",
       "  2 "
      ]
     },
     "metadata": {},
     "output_type": "display_data"
    }
   ],
   "source": [
    "#--- Plots of PIP\n",
    "#    sparse_piphigh_sd1: standard deviation of PIP for s_1\n",
    "#    sparse_piphigh_sd2: standard deviation of PIP for s_601\n",
    "#    sparse_piphigh + sampler name: mean of PIP for both s_1 and s_601 of a specific sampler\n",
    "\n",
    "png(paste(wd, '/sparse_piphigh_sd1.png', sep=''), width = 1600, height = 1200, res=200)\n",
    "\n",
    "for(i in 1:length(method_names)){\n",
    "    if(i == 1){\n",
    "        plot(sample_interval, log(re_pip_sd$ave_include_prob_cov1[i,]), type='l', ylim = c(-2.0, -0.8), col = 1, xlab='Number of draws', ylab = 'SD of PIP', lwd = 1.8,\n",
    "     cex.lab = 1.4,\n",
    "     cex.axis = 1.2)\n",
    "    }\n",
    "    else{\n",
    "        points(sample_interval, log(re_pip_sd$ave_include_prob_cov1[i,]), type = \"l\", col=i, lwd = 1.8,\n",
    "     cex.lab = 1.4,\n",
    "     cex.axis = 1.2)\n",
    "    }\n",
    "}\n",
    "legend(\"topright\", legend = display_names, col=1:length(method_names),lwd = 2.5,\n",
    "       cex = 1.0,\n",
    "       x.intersp = 1,\n",
    "       y.intersp = 0.85)\n",
    "dev.off()\n",
    "\n",
    "png(paste(wd, '/sparse_piphigh_sd2.png', sep=''), width = 1600, height = 1200, res=200)\n",
    "\n",
    "for(i in 1:length(method_names)){\n",
    "    if(i == 1){\n",
    "        plot(sample_interval, log(re_pip_sd$ave_include_prob_cov2[i,]), type='l', ylim = c(-2.0, -0.8), col = 1, xlab='Number of draws', ylab = 'SD of PIP', lwd = 1.8,\n",
    "     cex.lab = 1.4,\n",
    "     cex.axis = 1.2)\n",
    "    }\n",
    "    else{\n",
    "        points(sample_interval, log(re_pip_sd$ave_include_prob_cov2[i,]), type = \"l\", col=i, lwd = 1.8,\n",
    "     cex.lab = 1.4,\n",
    "     cex.axis = 1.2)\n",
    "    }\n",
    "}\n",
    "legend(\"topright\", legend = display_names, col=1:length(method_names),lwd = 2.5,\n",
    "       cex = 1.0,\n",
    "       x.intersp = 1,\n",
    "       y.intersp = 0.85)\n",
    "dev.off()"
   ]
  },
  {
   "cell_type": "code",
   "execution_count": 6,
   "id": "357103b1",
   "metadata": {
    "vscode": {
     "languageId": "r"
    }
   },
   "outputs": [],
   "source": [
    "re_pip = readRDS('PIP.RData')"
   ]
  },
  {
   "cell_type": "code",
   "execution_count": null,
   "id": "2586250d",
   "metadata": {
    "vscode": {
     "languageId": "r"
    }
   },
   "outputs": [],
   "source": [
    "for(i in 1:length(method_names)){\n",
    "    png(paste(wd, '/sparse_pip1high_', method_names[i], '.png', sep = ''), width = 1600, height = 1200, res=200)\n",
    "    plot(sample_interval, re_pip$ave_include_prob_cov1[i,], type='l', ylim =c(0.45, 0.55), col = 'black', xlab='Number of draws', ylab = 'Mean of PIP',  lwd = 1.8,\n",
    "     cex.lab = 1.4,\n",
    "     cex.axis = 1.2)\n",
    "    points(sample_interval, re_pip$ave_include_prob_cov2[i,], type = \"l\", col='red',  lwd = 1.8,\n",
    "     cex.lab = 1.4,\n",
    "     cex.axis = 1.2)\n",
    "    abline(h=0.5, lty=2,lwd=2.0, col=\"grey\") \n",
    "    legend(\"topright\", legend = c('s1', 's601'), col=c('black', 'red'),lwd = 2.5,\n",
    "       cex = 1.0,\n",
    "       x.intersp = 1,\n",
    "       y.intersp = 0.85)\n",
    "    dev.off()\n",
    "}"
   ]
  },
  {
   "cell_type": "code",
   "execution_count": 3,
   "id": "56dcacca",
   "metadata": {
    "vscode": {
     "languageId": "r"
    }
   },
   "outputs": [],
   "source": [
    "#--- ACF plots for each sampler\n",
    "for(i in 1:length(method_names)){\n",
    "    repart1 = readRDS(paste('adaptive_tuning', method_names[i], '.RData', sep=''))\n",
    "    repart2 = readRDS(paste('adaptive_tuning', method_names[i], 'cont.RData', sep=''))\n",
    "    xss = c(repart1$xss[5,1,], repart2$xss[5,1,])\n",
    "\n",
    "    rm(repart1)\n",
    "    rm(repart2)\n",
    "    repart3 = readRDS(paste('adaptive_tuning', method_names[i], 'fcont_good.RData', sep=''))\n",
    "    xss = c(xss, repart3[[1]][5,1,1:29000])\n",
    "    rm(repart3)\n",
    "    x_matrix <- matrix(xss, nrow = 300)\n",
    "    x_thinned = colMeans(x_matrix)\n",
    "    png(paste(wd, '/acf_', method_names[i], '.png', sep = ''), width = 1600, height = 1200, res=200)\n",
    "    acf(x_thinned, lag.max = 50, main= '')\n",
    "    dev.off()\n",
    "}"
   ]
  }
 ],
 "metadata": {
  "kernelspec": {
   "display_name": "R",
   "language": "R",
   "name": "ir"
  },
  "language_info": {
   "codemirror_mode": "r",
   "file_extension": ".r",
   "mimetype": "text/x-r-source",
   "name": "R",
   "pygments_lexer": "r",
   "version": "3.6.3"
  }
 },
 "nbformat": 4,
 "nbformat_minor": 5
}
