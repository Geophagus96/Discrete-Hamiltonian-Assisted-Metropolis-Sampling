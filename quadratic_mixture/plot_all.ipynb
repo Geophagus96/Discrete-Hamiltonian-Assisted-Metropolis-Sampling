{
 "cells": [
  {
   "cell_type": "code",
   "execution_count": 1,
   "metadata": {
    "vscode": {
     "languageId": "r"
    }
   },
   "outputs": [
    {
     "name": "stderr",
     "output_type": "stream",
     "text": [
      "Loading required package: pracma\n",
      "\n",
      "Loading required package: Rcpp\n",
      "\n"
     ]
    },
    {
     "name": "stderr",
     "output_type": "stream",
     "text": [
      "Loading required package: RcppArmadillo\n",
      "\n"
     ]
    }
   ],
   "source": [
    "method_name = c('MHU', 'GWG', 'NCG', 'AVG', 'V-DHAMS', 'O-DHAMS')\n",
    "\n",
    "display_names = c('Metropolis', 'GWG', 'NCG', 'AVG',  'V-DHAMS','O-DHAMS')\n",
    "source('algos.R')\n",
    "prob_tables = readRDS('probtable.RData')\n",
    "mus = prob_tables[[4]]\n",
    "Ws = prob_tables[[5]]"
   ]
  },
  {
   "cell_type": "code",
   "execution_count": null,
   "metadata": {
    "vscode": {
     "languageId": "r"
    }
   },
   "outputs": [],
   "source": [
    "#--- nsample: number of draws per chain\n",
    "#    nplot: number of draws for trace plots\n",
    "#    ngaps: interval (gap) between draws to calculate metrics\n",
    "#    nsize: 2*nsize+1 is the lattice size\n",
    "#    nrepeat: number of repeated chains\n",
    "nsample = 24000\n",
    "nplot = 4000\n",
    "ngaps = 400\n",
    "nrepeat = 100\n",
    "nsize = 10"
   ]
  },
  {
   "cell_type": "code",
   "execution_count": 3,
   "metadata": {
    "vscode": {
     "languageId": "r"
    }
   },
   "outputs": [],
   "source": [
    "#--- Specify working directory for output plots\n",
    "wd = getwd()"
   ]
  },
  {
   "cell_type": "code",
   "execution_count": 4,
   "metadata": {
    "vscode": {
     "languageId": "r"
    }
   },
   "outputs": [],
   "source": [
    "#--- ESS functions \n",
    "ESS_2 = function(xss_multi){\n",
    "  ndim = dim(xss_multi)[2]\n",
    "  n = dim(xss_multi)[3]\n",
    "  m = dim(xss_multi)[1]\n",
    "  ess_2 = vector(length = ndim)\n",
    "  for(i in 1:ndim){\n",
    "    xss = xss_multi[,i,]\n",
    "    row_mean = rowMeans(xss)\n",
    "    W = 1/(m*(n-1))*sum(sweep(xss, 1, row_mean)^2)\n",
    "    B = n/(m-1)*sum((row_mean-mean(xss))^2)\n",
    "    ess_2[i] = n*W/B\n",
    "  }\n",
    "  return(ess_2)\n",
    "}\n",
    "\n",
    "ess_single = function(xs_energy){\n",
    "    m = nrow(xs_energy)\n",
    "    n = ncol(xs_energy)\n",
    "    row_mean = rowMeans(xs_energy)\n",
    "    W = 1/(m*(n-1))*sum(sweep(xs_energy, 1, row_mean)^2)\n",
    "    B = n/(m-1)*sum((row_mean-mean(xs_energy))^2)\n",
    "    ess = n*W/B\n",
    "    return(ess)\n",
    "}\n",
    "sample_interval = ngaps*(1:(nsample/ngaps)) \n",
    "ns = sample_interval\n",
    "colors_idx = 1:length(method_name)"
   ]
  },
  {
   "cell_type": "code",
   "execution_count": 5,
   "metadata": {
    "vscode": {
     "languageId": "r"
    }
   },
   "outputs": [],
   "source": [
    "ave_accs = vector(length=length(method_name))\n",
    "ave_tv1 = matrix(vector(length = length(method_name)*length(sample_interval)), length(method_name), length(sample_interval))\n",
    "ave_tv2 = matrix(vector(length = length(method_name)*length(sample_interval)), length(method_name), length(sample_interval))\n",
    "ave_tv4 = matrix(vector(length = length(method_name)*length(sample_interval)), length(method_name), length(sample_interval))\n",
    "ave_tv1_var = matrix(vector(length = length(method_name)*length(sample_interval)), length(method_name), length(sample_interval))\n",
    "ave_tv2_var = matrix(vector(length = length(method_name)*length(sample_interval)), length(method_name), length(sample_interval))\n",
    "ave_tv4_var = matrix(vector(length = length(method_name)*length(sample_interval)), length(method_name), length(sample_interval))\n",
    "\n",
    "ave_ex_bias = matrix(vector(length = length(method_name)*length(sample_interval)), length(method_name), length(sample_interval))\n",
    "ave_ex2_bias = matrix(vector(length = length(method_name)*length(sample_interval)), length(method_name), length(sample_interval))\n",
    "ave_ex12_bias = matrix(vector(length = length(method_name)*length(sample_interval)), length(method_name), length(sample_interval))\n",
    "ave_ex_var = matrix(vector(length = length(method_name)*length(sample_interval)), length(method_name), length(sample_interval))\n",
    "ave_ex2_var = matrix(vector(length = length(method_name)*length(sample_interval)), length(method_name), length(sample_interval))\n",
    "ave_ex12_var = matrix(vector(length = length(method_name)*length(sample_interval)), length(method_name), length(sample_interval))\n",
    "\n",
    "ess2 = matrix(vector(length = length(method_name)*3), length(method_name), 3)\n",
    "xl = c(-nsize, nsize)\n",
    "yl = c(-nsize, nsize)\n",
    "\n",
    "optimal_params = list()\n",
    "ess2 = matrix(vector(length = length(method_name)*3), length(method_name), 3)\n",
    "xl = c(-nsize, nsize)\n",
    "yl = c(-nsize, nsize)\n",
    "\n",
    "for(i in 1:length(method_name)){\n",
    "  re = readRDS(paste(getwd(), '/disgau', method_name[i], '.RData', sep=''))\n",
    "  ave_accs[i] = re[[2]]\n",
    "  ave_tv1[i,] = re[[3]]\n",
    "  ave_tv2[i,] = re[[4]]\n",
    "  ave_ex_bias[i,] = re[[5]]\n",
    "  ave_ex_var[i,] = re[[6]]\n",
    "  ave_ex2_bias[i,] = re[[7]]\n",
    "  ave_ex2_var[i,] = re[[8]]\n",
    "  ave_ex12_bias[i,] = re[[9]]\n",
    "  ave_ex12_var[i,] = re[[10]]\n",
    "  ave_tv1_var[i,] = re[[11]]\n",
    "  ave_tv2_var[i,] = re[[12]]\n",
    "  ave_tv4[i,] = re[[13]]\n",
    "  ave_tv4_var[i,] = re[[14]]\n",
    "  ess2_re = ESS_2(re[[1]][,1,,])\n",
    "  ess2[i,] = c(min(ess2_re), median(ess2_re), max(ess2_re))\n",
    "  \n",
    "  optimal_params[[i]] = re[[18]]\n",
    "\n",
    "  #--- Trace plots of each sampler\n",
    "  png(paste(wd, '/trace', display_names[i], '.png', sep = ''), \n",
    "    width = 1600, height = 1200, res = 200)\n",
    "    par(mfrow = c(3,3), mar = c(4, 4, 2, 2))\n",
    "\n",
    "    for (j in 1:9) {\n",
    "      x_vals <- re[[1]][j,1,1,1:nplot] + 0.1 * rnorm(nplot)\n",
    "      y_vals <- re[[1]][j,1,2,1:nplot] + 0.1 * rnorm(nplot)\n",
    "    \n",
    "      plot(x_vals, y_vals, type = 'l',\n",
    "       xlim = xl, ylim = yl,\n",
    "       cex.lab = 1.5, xlab = '', ylab='')\n",
    "    }\n",
    "\n",
    "  dev.off()\n",
    "}\n",
    "\n"
   ]
  },
  {
   "cell_type": "code",
   "execution_count": 6,
   "metadata": {
    "vscode": {
     "languageId": "r"
    }
   },
   "outputs": [
    {
     "data": {
      "text/html": [
       "<strong>png:</strong> 2"
      ],
      "text/latex": [
       "\\textbf{png:} 2"
      ],
      "text/markdown": [
       "**png:** 2"
      ],
      "text/plain": [
       "png \n",
       "  2 "
      ]
     },
     "metadata": {},
     "output_type": "display_data"
    },
    {
     "data": {
      "text/html": [
       "<strong>png:</strong> 2"
      ],
      "text/latex": [
       "\\textbf{png:} 2"
      ],
      "text/markdown": [
       "**png:** 2"
      ],
      "text/plain": [
       "png \n",
       "  2 "
      ]
     },
     "metadata": {},
     "output_type": "display_data"
    },
    {
     "data": {
      "text/html": [
       "<strong>png:</strong> 2"
      ],
      "text/latex": [
       "\\textbf{png:} 2"
      ],
      "text/markdown": [
       "**png:** 2"
      ],
      "text/plain": [
       "png \n",
       "  2 "
      ]
     },
     "metadata": {},
     "output_type": "display_data"
    },
    {
     "data": {
      "text/html": [
       "<strong>png:</strong> 2"
      ],
      "text/latex": [
       "\\textbf{png:} 2"
      ],
      "text/markdown": [
       "**png:** 2"
      ],
      "text/plain": [
       "png \n",
       "  2 "
      ]
     },
     "metadata": {},
     "output_type": "display_data"
    },
    {
     "data": {
      "text/html": [
       "<strong>png:</strong> 2"
      ],
      "text/latex": [
       "\\textbf{png:} 2"
      ],
      "text/markdown": [
       "**png:** 2"
      ],
      "text/plain": [
       "png \n",
       "  2 "
      ]
     },
     "metadata": {},
     "output_type": "display_data"
    },
    {
     "data": {
      "text/html": [
       "<strong>png:</strong> 2"
      ],
      "text/latex": [
       "\\textbf{png:} 2"
      ],
      "text/markdown": [
       "**png:** 2"
      ],
      "text/plain": [
       "png \n",
       "  2 "
      ]
     },
     "metadata": {},
     "output_type": "display_data"
    },
    {
     "data": {
      "text/html": [
       "<strong>png:</strong> 2"
      ],
      "text/latex": [
       "\\textbf{png:} 2"
      ],
      "text/markdown": [
       "**png:** 2"
      ],
      "text/plain": [
       "png \n",
       "  2 "
      ]
     },
     "metadata": {},
     "output_type": "display_data"
    },
    {
     "data": {
      "text/html": [
       "<strong>png:</strong> 2"
      ],
      "text/latex": [
       "\\textbf{png:} 2"
      ],
      "text/markdown": [
       "**png:** 2"
      ],
      "text/plain": [
       "png \n",
       "  2 "
      ]
     },
     "metadata": {},
     "output_type": "display_data"
    },
    {
     "data": {
      "text/html": [
       "<strong>png:</strong> 2"
      ],
      "text/latex": [
       "\\textbf{png:} 2"
      ],
      "text/markdown": [
       "**png:** 2"
      ],
      "text/plain": [
       "png \n",
       "  2 "
      ]
     },
     "metadata": {},
     "output_type": "display_data"
    },
    {
     "data": {
      "text/html": [
       "<strong>png:</strong> 2"
      ],
      "text/latex": [
       "\\textbf{png:} 2"
      ],
      "text/markdown": [
       "**png:** 2"
      ],
      "text/plain": [
       "png \n",
       "  2 "
      ]
     },
     "metadata": {},
     "output_type": "display_data"
    },
    {
     "data": {
      "text/html": [
       "<strong>png:</strong> 2"
      ],
      "text/latex": [
       "\\textbf{png:} 2"
      ],
      "text/markdown": [
       "**png:** 2"
      ],
      "text/plain": [
       "png \n",
       "  2 "
      ]
     },
     "metadata": {},
     "output_type": "display_data"
    },
    {
     "data": {
      "text/html": [
       "<strong>png:</strong> 2"
      ],
      "text/latex": [
       "\\textbf{png:} 2"
      ],
      "text/markdown": [
       "**png:** 2"
      ],
      "text/plain": [
       "png \n",
       "  2 "
      ]
     },
     "metadata": {},
     "output_type": "display_data"
    }
   ],
   "source": [
    "# --- Plots:\n",
    "#     plot_tv1        : Averaged mean of TV distance for one-dimensional marginal distributions\n",
    "#     plot_tv2        : Averaged mean of TV distance for two-dimensional marginal distributions\n",
    "#     plot_tv4        : Averaged mean of TV distance for four-dimensional marginal distributions\n",
    "#     plot_tv1_var    : Averaged standard deviation of TV distance for one-dimensional marginals\n",
    "#     plot_tv2_var    : Averaged standard deviation of TV distance for two-dimensional marginals\n",
    "#     plot_tv4_var    : Averaged standard deviation of TV distance for four-dimensional marginals\n",
    "#     plot_ex1_bias   : Averaged squared bias in estimating E[x_i]\n",
    "#     plot_ex1_var    : Averaged variance in estimating E[x_i]\n",
    "#     plot_ex2_bias   : Averaged squared bias in estimating E[x_i²]\n",
    "#     plot_ex2_var    : Averaged variance in estimating E[x_i²]\n",
    "#     plot_ex12_bias  : Averaged squared bias in estimating E[x_i x_j]\n",
    "#     plot_ex12_var   : Averaged variance in estimating E[x_i x_j]\n",
    "\n",
    "png(paste(wd, \"/plot_tv1.png\", sep = ''), width = 1600, height = 1200, res = 200)\n",
    "plot(ns, ave_tv1[1,], ylim = c(0.1, 0.35), col = colors_idx[1], type = 'l',\n",
    "     lwd = 2.5, cex.lab = 1.4, cex.axis = 1.2,\n",
    "     xlab = 'Number of draws',\n",
    "     ylab = 'Mean of TV distance')\n",
    "for(i in 2:length(colors_idx)) {\n",
    "  lines(ns, ave_tv1[i,], col = colors_idx[i], lwd = 2.5)\n",
    "}\n",
    "legend('topright', legend = display_names, col = colors_idx,\n",
    "       lwd = 2.5, cex = 1.0, x.intersp = 1, y.intersp = 0.85)\n",
    "dev.off()\n",
    "\n",
    "png(paste(wd, \"/plot_tv2.png\", sep =''), width = 1600, height = 1200, res = 200)\n",
    "plot(ns, ave_tv2[1,], ylim = c(0.1, 0.5), col = colors_idx[1], type = 'l',\n",
    "     lwd = 2.5, cex.lab = 1.4, cex.axis = 1.2,\n",
    "     xlab = 'Number of draws',\n",
    "     ylab = 'Mean of TV distance')\n",
    "for(i in 2:length(colors_idx)) {\n",
    "  lines(ns, ave_tv2[i,], col = colors_idx[i], lwd = 2.5)\n",
    "}\n",
    "legend('topright', legend = display_names, col = colors_idx,\n",
    "       lwd = 2.5, cex = 1.0, x.intersp = 1, y.intersp = 0.85)\n",
    "dev.off()\n",
    "\n",
    "png(paste(wd, \"/plot_tv1_var.png\", sep =''), width = 1600, height = 1200, res = 200)\n",
    "plot(ns, ave_tv1_var[1,], ylim = c(0.04, 0.14), col = colors_idx[1], type = 'l',\n",
    "     lwd = 2.5, cex.lab = 1.4, cex.axis = 1.2,\n",
    "     xlab = 'Number of draws',\n",
    "     ylab = 'SD of TV distance')\n",
    "for(i in 2:length(colors_idx)) {\n",
    "  lines(ns, ave_tv1_var[i,], col = colors_idx[i], lwd = 2.5)\n",
    "}\n",
    "legend('topright', legend = display_names, col = colors_idx,\n",
    "       lwd = 2.5, cex = 1.0, x.intersp = 1, y.intersp = 0.85)\n",
    "dev.off()\n",
    "\n",
    "png(paste(wd, \"/plot_tv2_var.png\", sep =''), width = 1600, height = 1200, res = 200)\n",
    "plot(ns, ave_tv2_var[1,], ylim = c(0.02, 0.12), col = colors_idx[1], type = 'l',\n",
    "     lwd = 2.5, cex.lab = 1.4, cex.axis = 1.2,\n",
    "     xlab = 'Number of draws',\n",
    "     ylab = 'SD of TV distance')\n",
    "for(i in 2:length(colors_idx)) {\n",
    "  lines(ns, ave_tv2_var[i,], col = colors_idx[i], lwd = 2.5)\n",
    "}\n",
    "legend('topright', legend = display_names, col = colors_idx,\n",
    "       lwd = 2.5, cex = 1.0, x.intersp = 1, y.intersp = 0.85)\n",
    "dev.off()\n",
    "\n",
    "png(paste(wd, \"/plot_ex_bias.png\", sep =''), width = 1600, height = 1200, res = 200)\n",
    "plot(ns, ave_ex_bias[1,], ylim = c(0.0, 0.2), col = colors_idx[1], type = 'l',\n",
    "     lwd = 2.5, cex.lab = 1.4, cex.axis = 1.2,\n",
    "     xlab = 'Number of draws',\n",
    "     ylab = 'Average squared bias')\n",
    "for(i in 2:length(colors_idx)) {\n",
    "  lines(ns, ave_ex_bias[i,], col = colors_idx[i], lwd = 2.5)\n",
    "}\n",
    "legend('topright', legend = display_names, col = colors_idx,\n",
    "       lwd = 2.5, cex = 1.0, x.intersp = 1, y.intersp = 0.85)\n",
    "dev.off()\n",
    "\n",
    "png(paste(wd, \"/plot_ex_var.png\", sep= ''), width = 1600, height = 1200, res = 200)\n",
    "plot(ns, ave_ex_var[1,], ylim = c(0.0, 20), col = colors_idx[1], type = 'l',\n",
    "     lwd = 2.5, cex.lab = 1.4, cex.axis = 1.2,\n",
    "     xlab = 'Number of draws',\n",
    "     ylab = 'Average variance')\n",
    "for(i in 2:length(colors_idx)) {\n",
    "  lines(ns, ave_ex_var[i,], col = colors_idx[i], lwd = 2.5)\n",
    "}\n",
    "legend('topright', legend = display_names, col = colors_idx,\n",
    "       lwd = 2.5, cex = 1.0, x.intersp = 1, y.intersp = 0.85)\n",
    "dev.off()\n",
    "\n",
    "png(paste(wd, \"/plot_ex2_bias.png\", sep= ''), width = 1600, height = 1200, res = 200)\n",
    "plot(ns, ave_ex2_bias[1,], ylim = c(0.0, 0.8), col = colors_idx[1], type = 'l',\n",
    "     lwd = 2.5, cex.lab = 1.4, cex.axis = 1.2,\n",
    "     xlab = 'Number of draws',\n",
    "     ylab = 'Average squared bias')\n",
    "for(i in 2:length(colors_idx)) {\n",
    "  lines(ns, ave_ex2_bias[i,], col = colors_idx[i], lwd = 2.5)\n",
    "}\n",
    "legend('topright', legend = display_names, col = colors_idx,\n",
    "       lwd = 2.5, cex = 1.0, x.intersp = 1, y.intersp = 0.85)\n",
    "dev.off()\n",
    "\n",
    "png(paste(wd, \"/plot_ex2_var.png\", sep =''), width = 1600, height = 1200, res = 200)\n",
    "plot(ns, ave_ex2_var[1,], ylim = c(0.0, 45), col = colors_idx[1], type = 'l',\n",
    "     lwd = 2.5, cex.lab = 1.4, cex.axis = 1.2,\n",
    "     xlab = 'Number of draws',\n",
    "     ylab = 'Average variance')\n",
    "for(i in 2:length(colors_idx)) {\n",
    "  lines(ns, ave_ex2_var[i,], col = colors_idx[i], lwd = 2.5)\n",
    "}\n",
    "legend('bottomleft', legend = display_names, col = colors_idx,\n",
    "       lwd = 2.5, cex = 1.0, x.intersp = 1, y.intersp = 0.85)\n",
    "dev.off()\n",
    "\n",
    "png(paste(wd, \"/plot_ex12_bias.png\", sep= ''), width = 1600, height = 1200, res = 200)\n",
    "plot(ns, ave_ex12_bias[1,], ylim = c(0, 0.8), col = colors_idx[1], type = 'l',\n",
    "     lwd = 2.5, cex.lab = 1.4, cex.axis = 1.2,\n",
    "     xlab = 'Number of draws',\n",
    "     ylab = 'Average squared bias')\n",
    "for(i in 2:length(colors_idx)) {\n",
    "  lines(ns, ave_ex12_bias[i,], col = colors_idx[i], lwd = 2.5)\n",
    "}\n",
    "legend('topright', legend = display_names, col = colors_idx,\n",
    "       lwd = 2.5, cex = 1.0, x.intersp = 1, y.intersp = 0.85)\n",
    "dev.off()\n",
    "\n",
    "png(paste(wd, \"/plot_ex12_var.png\", sep = ''), width = 1600, height = 1200, res = 200)\n",
    "plot(ns, ave_ex12_var[1,], ylim = c(0.0, 45), col = colors_idx[1], type = 'l',\n",
    "     lwd = 2.5, cex.lab = 1.4, cex.axis = 1.2,\n",
    "     xlab = 'Number of draws',\n",
    "     ylab = 'Average variance')\n",
    "for(i in 2:length(colors_idx)) {\n",
    "  lines(ns, ave_ex12_var[i,], col = colors_idx[i], lwd = 2.5)\n",
    "}\n",
    "legend('bottomleft', legend = display_names, col = colors_idx,\n",
    "       lwd = 2.5, cex = 1.0, x.intersp = 1, y.intersp = 0.85)\n",
    "dev.off()\n",
    "\n",
    "\n",
    "png(paste(wd, \"/plot_tv4.png\", sep = ''), width = 1600, height = 1200, res = 200)\n",
    "plot(ns, ave_tv4[1,],\n",
    "     ylim = c(0.35, 0.9),\n",
    "     col = colors_idx[1],\n",
    "     type = 'l',\n",
    "     lwd = 2.5,\n",
    "     cex.lab = 1.4,\n",
    "     cex.axis = 1.2,\n",
    "     xlab = 'Number of draws',\n",
    "     ylab = 'Mean of TV distance')\n",
    "for (i in 2:length(colors_idx)) {\n",
    "  lines(ns, ave_tv4[i,], col = colors_idx[i], lwd = 2.5)\n",
    "}\n",
    "legend('topright',\n",
    "       legend = display_names,\n",
    "       col = colors_idx,\n",
    "       lwd = 2.5,\n",
    "       cex = 1.0,\n",
    "       x.intersp = 1,\n",
    "       y.intersp = 0.85)\n",
    "\n",
    "dev.off()\n",
    "\n",
    "\n",
    "png(paste(wd, \"/plot_tv4_var.png\", sep = ''), width = 1600, height = 1200, res = 200)\n",
    "plot(ns, ave_tv4[1,],\n",
    "     ylim = c(0.05, 0.20),\n",
    "     col = colors_idx[1],\n",
    "     type = 'l',\n",
    "     lwd = 2.5,\n",
    "     cex.lab = 1.4,\n",
    "     cex.axis = 1.2,\n",
    "     xlab = 'Number of draws',\n",
    "     ylab = 'SD of TV distance')\n",
    "for (i in 2:length(colors_idx)) {\n",
    "  lines(ns, sqrt(ave_tv4_var[i,]), col = colors_idx[i], lwd = 2.5)\n",
    "}\n",
    "legend('topright',\n",
    "       legend = display_names,\n",
    "       col = colors_idx,\n",
    "       lwd = 2.5,\n",
    "       cex = 1.0,\n",
    "       x.intersp = 1,\n",
    "       y.intersp = 0.85)\n",
    "\n",
    "dev.off()"
   ]
  },
  {
   "cell_type": "code",
   "execution_count": 7,
   "metadata": {
    "vscode": {
     "languageId": "r"
    }
   },
   "outputs": [
    {
     "data": {
      "text/html": [
       "<table class=\"dataframe\">\n",
       "<caption>A matrix: 6 × 3 of type dbl</caption>\n",
       "<tbody>\n",
       "\t<tr><th scope=row>Metropolis</th><td> 3.500438</td><td> 3.544882</td><td> 3.574708</td></tr>\n",
       "\t<tr><th scope=row>GWG</th><td> 1.573452</td><td> 1.582042</td><td> 1.604067</td></tr>\n",
       "\t<tr><th scope=row>NCG</th><td>11.579067</td><td>11.656384</td><td>11.709063</td></tr>\n",
       "\t<tr><th scope=row>AVG</th><td> 6.495237</td><td> 6.532771</td><td> 6.627620</td></tr>\n",
       "\t<tr><th scope=row>V-DHAMS</th><td>14.205189</td><td>14.260008</td><td>14.356120</td></tr>\n",
       "\t<tr><th scope=row>O-DHAMS</th><td>12.436586</td><td>12.479732</td><td>12.556606</td></tr>\n",
       "</tbody>\n",
       "</table>\n"
      ],
      "text/latex": [
       "A matrix: 6 × 3 of type dbl\n",
       "\\begin{tabular}{r|lll}\n",
       "\tMetropolis &  3.500438 &  3.544882 &  3.574708\\\\\n",
       "\tGWG &  1.573452 &  1.582042 &  1.604067\\\\\n",
       "\tNCG & 11.579067 & 11.656384 & 11.709063\\\\\n",
       "\tAVG &  6.495237 &  6.532771 &  6.627620\\\\\n",
       "\tV-DHAMS & 14.205189 & 14.260008 & 14.356120\\\\\n",
       "\tO-DHAMS & 12.436586 & 12.479732 & 12.556606\\\\\n",
       "\\end{tabular}\n"
      ],
      "text/markdown": [
       "\n",
       "A matrix: 6 × 3 of type dbl\n",
       "\n",
       "| Metropolis |  3.500438 |  3.544882 |  3.574708 |\n",
       "| GWG |  1.573452 |  1.582042 |  1.604067 |\n",
       "| NCG | 11.579067 | 11.656384 | 11.709063 |\n",
       "| AVG |  6.495237 |  6.532771 |  6.627620 |\n",
       "| V-DHAMS | 14.205189 | 14.260008 | 14.356120 |\n",
       "| O-DHAMS | 12.436586 | 12.479732 | 12.556606 |\n",
       "\n"
      ],
      "text/plain": [
       "           [,1]      [,2]      [,3]     \n",
       "Metropolis  3.500438  3.544882  3.574708\n",
       "GWG         1.573452  1.582042  1.604067\n",
       "NCG        11.579067 11.656384 11.709063\n",
       "AVG         6.495237  6.532771  6.627620\n",
       "V-DHAMS    14.205189 14.260008 14.356120\n",
       "O-DHAMS    12.436586 12.479732 12.556606"
      ]
     },
     "metadata": {},
     "output_type": "display_data"
    }
   ],
   "source": [
    "#--- Table of minimum, median and maximum of ESS across coordinate for each sample\n",
    "rownames(ess2) = display_names\n",
    "ess2"
   ]
  },
  {
   "cell_type": "code",
   "execution_count": 8,
   "metadata": {
    "vscode": {
     "languageId": "r"
    }
   },
   "outputs": [
    {
     "data": {
      "text/html": [
       "<dl>\n",
       "\t<dt>$Metropolis</dt>\n",
       "\t\t<dd><ol>\n",
       "\t<li><strong>$r</strong> = 4</li>\n",
       "</ol>\n",
       "</dd>\n",
       "\t<dt>$GWG</dt>\n",
       "\t\t<dd><ol>\n",
       "\t<li><strong>$r</strong> = 2</li>\n",
       "</ol>\n",
       "</dd>\n",
       "\t<dt>$NCG</dt>\n",
       "\t\t<dd><ol>\n",
       "\t<li><strong>$a</strong> = 3.3</li>\n",
       "</ol>\n",
       "</dd>\n",
       "\t<dt>$AVG</dt>\n",
       "\t\t<dd><ol>\n",
       "\t<li><strong>$a</strong> = 1.86</li>\n",
       "</ol>\n",
       "</dd>\n",
       "\t<dt>$`V-DHAMS`</dt>\n",
       "\t\t<dd><ol>\n",
       "\t<li><dl>\n",
       "\t<dt>$a</dt>\n",
       "\t\t<dd>1.068421</dd>\n",
       "\t<dt>$b</dt>\n",
       "\t\t<dd>0.9</dd>\n",
       "\t<dt>$gamma</dt>\n",
       "\t\t<dd>1</dd>\n",
       "\t<dt>$c</dt>\n",
       "\t\t<dd>-0.5</dd>\n",
       "</dl>\n",
       "</li>\n",
       "</ol>\n",
       "</dd>\n",
       "\t<dt>$`O-DHAMS`</dt>\n",
       "\t\t<dd><ol>\n",
       "\t<li><dl>\n",
       "\t<dt>$a</dt>\n",
       "\t\t<dd>0.75</dd>\n",
       "\t<dt>$b</dt>\n",
       "\t\t<dd>0.9</dd>\n",
       "\t<dt>$gamma</dt>\n",
       "\t\t<dd>0.1</dd>\n",
       "\t<dt>$c</dt>\n",
       "\t\t<dd>-0.7</dd>\n",
       "</dl>\n",
       "</li>\n",
       "</ol>\n",
       "</dd>\n",
       "</dl>\n"
      ],
      "text/latex": [
       "\\begin{description}\n",
       "\\item[\\$Metropolis] \\begin{enumerate}\n",
       "\\item \\textbf{\\$r} = 4\n",
       "\\end{enumerate}\n",
       "\n",
       "\\item[\\$GWG] \\begin{enumerate}\n",
       "\\item \\textbf{\\$r} = 2\n",
       "\\end{enumerate}\n",
       "\n",
       "\\item[\\$NCG] \\begin{enumerate}\n",
       "\\item \\textbf{\\$a} = 3.3\n",
       "\\end{enumerate}\n",
       "\n",
       "\\item[\\$AVG] \\begin{enumerate}\n",
       "\\item \\textbf{\\$a} = 1.86\n",
       "\\end{enumerate}\n",
       "\n",
       "\\item[\\$`V-DHAMS`] \\begin{enumerate}\n",
       "\\item \\begin{description}\n",
       "\\item[\\$a] 1.068421\n",
       "\\item[\\$b] 0.9\n",
       "\\item[\\$gamma] 1\n",
       "\\item[\\$c] -0.5\n",
       "\\end{description}\n",
       "\n",
       "\\end{enumerate}\n",
       "\n",
       "\\item[\\$`O-DHAMS`] \\begin{enumerate}\n",
       "\\item \\begin{description}\n",
       "\\item[\\$a] 0.75\n",
       "\\item[\\$b] 0.9\n",
       "\\item[\\$gamma] 0.1\n",
       "\\item[\\$c] -0.7\n",
       "\\end{description}\n",
       "\n",
       "\\end{enumerate}\n",
       "\n",
       "\\end{description}\n"
      ],
      "text/markdown": [
       "$Metropolis\n",
       ":   1. **$r** = 4\n",
       "\n",
       "\n",
       "\n",
       "$GWG\n",
       ":   1. **$r** = 2\n",
       "\n",
       "\n",
       "\n",
       "$NCG\n",
       ":   1. **$a** = 3.3\n",
       "\n",
       "\n",
       "\n",
       "$AVG\n",
       ":   1. **$a** = 1.86\n",
       "\n",
       "\n",
       "\n",
       "$`V-DHAMS`\n",
       ":   1. $a\n",
       ":   1.068421\n",
       "$b\n",
       ":   0.9\n",
       "$gamma\n",
       ":   1\n",
       "$c\n",
       ":   -0.5\n",
       "\n",
       "\n",
       "\n",
       "\n",
       "\n",
       "\n",
       "$`O-DHAMS`\n",
       ":   1. $a\n",
       ":   0.75\n",
       "$b\n",
       ":   0.9\n",
       "$gamma\n",
       ":   0.1\n",
       "$c\n",
       ":   -0.7\n",
       "\n",
       "\n",
       "\n",
       "\n",
       "\n",
       "\n",
       "\n",
       "\n"
      ],
      "text/plain": [
       "$Metropolis\n",
       "$Metropolis[[1]]\n",
       "$Metropolis[[1]]$r\n",
       "[1] 4\n",
       "\n",
       "\n",
       "\n",
       "$GWG\n",
       "$GWG[[1]]\n",
       "$GWG[[1]]$r\n",
       "[1] 2\n",
       "\n",
       "\n",
       "\n",
       "$NCG\n",
       "$NCG[[1]]\n",
       "$NCG[[1]]$a\n",
       "[1] 3.3\n",
       "\n",
       "\n",
       "\n",
       "$AVG\n",
       "$AVG[[1]]\n",
       "$AVG[[1]]$a\n",
       "[1] 1.86\n",
       "\n",
       "\n",
       "\n",
       "$`V-DHAMS`\n",
       "$`V-DHAMS`[[1]]\n",
       "$`V-DHAMS`[[1]]$a\n",
       "[1] 1.068421\n",
       "\n",
       "$`V-DHAMS`[[1]]$b\n",
       "[1] 0.9\n",
       "\n",
       "$`V-DHAMS`[[1]]$gamma\n",
       "[1] 1\n",
       "\n",
       "$`V-DHAMS`[[1]]$c\n",
       "[1] -0.5\n",
       "\n",
       "\n",
       "\n",
       "$`O-DHAMS`\n",
       "$`O-DHAMS`[[1]]\n",
       "$`O-DHAMS`[[1]]$a\n",
       "[1] 0.75\n",
       "\n",
       "$`O-DHAMS`[[1]]$b\n",
       "[1] 0.9\n",
       "\n",
       "$`O-DHAMS`[[1]]$gamma\n",
       "[1] 0.1\n",
       "\n",
       "$`O-DHAMS`[[1]]$c\n",
       "[1] -0.7\n",
       "\n",
       "\n"
      ]
     },
     "metadata": {},
     "output_type": "display_data"
    }
   ],
   "source": [
    "#--- Optimal parameters for each sample\n",
    "names(optimal_params) = display_names\n",
    "optimal_params"
   ]
  },
  {
   "cell_type": "code",
   "execution_count": 9,
   "metadata": {
    "vscode": {
     "languageId": "r"
    }
   },
   "outputs": [
    {
     "data": {
      "text/html": [
       "<style>\n",
       ".dl-inline {width: auto; margin:0; padding: 0}\n",
       ".dl-inline>dt, .dl-inline>dd {float: none; width: auto; display: inline-block}\n",
       ".dl-inline>dt::after {content: \":\\0020\"; padding-right: .5ex}\n",
       ".dl-inline>dt:not(:first-of-type) {padding-left: .5ex}\n",
       "</style><dl class=dl-inline><dt>Metropolis</dt><dd>0.59478125</dd><dt>GWG</dt><dd>0.754126666666667</dd><dt>NCG</dt><dd>0.742364583333333</dd><dt>AVG</dt><dd>0.66274625</dd><dt>V-DHAMS</dt><dd>0.83915</dd><dt>O-DHAMS</dt><dd>0.8427725</dd></dl>\n"
      ],
      "text/latex": [
       "\\begin{description*}\n",
       "\\item[Metropolis] 0.59478125\n",
       "\\item[GWG] 0.754126666666667\n",
       "\\item[NCG] 0.742364583333333\n",
       "\\item[AVG] 0.66274625\n",
       "\\item[V-DHAMS] 0.83915\n",
       "\\item[O-DHAMS] 0.8427725\n",
       "\\end{description*}\n"
      ],
      "text/markdown": [
       "Metropolis\n",
       ":   0.59478125GWG\n",
       ":   0.754126666666667NCG\n",
       ":   0.742364583333333AVG\n",
       ":   0.66274625V-DHAMS\n",
       ":   0.83915O-DHAMS\n",
       ":   0.8427725\n",
       "\n"
      ],
      "text/plain": [
       "Metropolis        GWG        NCG        AVG    V-DHAMS    O-DHAMS \n",
       " 0.5947813  0.7541267  0.7423646  0.6627462  0.8391500  0.8427725 "
      ]
     },
     "metadata": {},
     "output_type": "display_data"
    }
   ],
   "source": [
    "#--- Acceptance rates for each sample\n",
    "names(ave_accs) = display_names\n",
    "ave_accs"
   ]
  },
  {
   "cell_type": "code",
   "execution_count": 10,
   "metadata": {
    "vscode": {
     "languageId": "r"
    }
   },
   "outputs": [],
   "source": [
    "energy_only = function(x){\n",
    "  return(gradient_ene(x, mus, Ws)$ex)\n",
    "}\n",
    "\n",
    "ess_fs = vector(length = length(display_names))\n",
    "#--- ACF plots for each sampler\n",
    "for(i in 1:length(method_name)){\n",
    "  re = readRDS(paste(getwd(), '/disgau', method_name[i], '.RData', sep=''))\n",
    "  energies = apply(re[[1]][,1,,], c(1,3), energy_only)\n",
    "  ess_fs[i] = ess_single(energies)\n",
    "  png(paste(wd, '/acf', display_names[i], '.png', sep = ''))\n",
    "  acf(energies[1, ], lag.max = 30, main= '')\n",
    "  dev.off()\n",
    "}"
   ]
  },
  {
   "cell_type": "code",
   "execution_count": 11,
   "metadata": {
    "vscode": {
     "languageId": "r"
    }
   },
   "outputs": [
    {
     "data": {
      "text/html": [
       "<style>\n",
       ".dl-inline {width: auto; margin:0; padding: 0}\n",
       ".dl-inline>dt, .dl-inline>dd {float: none; width: auto; display: inline-block}\n",
       ".dl-inline>dt::after {content: \":\\0020\"; padding-right: .5ex}\n",
       ".dl-inline>dt:not(:first-of-type) {padding-left: .5ex}\n",
       "</style><dl class=dl-inline><dt>Metropolis</dt><dd>351.727055206985</dd><dt>GWG</dt><dd>245.821617543108</dd><dt>NCG</dt><dd>1863.43811109782</dd><dt>AVG</dt><dd>1116.58761848701</dd><dt>V-DHAMS</dt><dd>2828.45889272166</dd><dt>O-DHAMS</dt><dd>2384.07575723407</dd></dl>\n"
      ],
      "text/latex": [
       "\\begin{description*}\n",
       "\\item[Metropolis] 351.727055206985\n",
       "\\item[GWG] 245.821617543108\n",
       "\\item[NCG] 1863.43811109782\n",
       "\\item[AVG] 1116.58761848701\n",
       "\\item[V-DHAMS] 2828.45889272166\n",
       "\\item[O-DHAMS] 2384.07575723407\n",
       "\\end{description*}\n"
      ],
      "text/markdown": [
       "Metropolis\n",
       ":   351.727055206985GWG\n",
       ":   245.821617543108NCG\n",
       ":   1863.43811109782AVG\n",
       ":   1116.58761848701V-DHAMS\n",
       ":   2828.45889272166O-DHAMS\n",
       ":   2384.07575723407\n",
       "\n"
      ],
      "text/plain": [
       "Metropolis        GWG        NCG        AVG    V-DHAMS    O-DHAMS \n",
       "  351.7271   245.8216  1863.4381  1116.5876  2828.4589  2384.0758 "
      ]
     },
     "metadata": {},
     "output_type": "display_data"
    }
   ],
   "source": [
    "#--- Display the ESS of f(s) for each sampler\n",
    "names(ess_fs) = display_names\n",
    "ess_fs"
   ]
  },
  {
   "cell_type": "code",
   "execution_count": 12,
   "metadata": {
    "vscode": {
     "languageId": "r"
    }
   },
   "outputs": [
    {
     "data": {
      "text/html": [
       "<strong>png:</strong> 2"
      ],
      "text/latex": [
       "\\textbf{png:} 2"
      ],
      "text/markdown": [
       "**png:** 2"
      ],
      "text/plain": [
       "png \n",
       "  2 "
      ]
     },
     "metadata": {},
     "output_type": "display_data"
    }
   ],
   "source": [
    "#--- Probability plot of the true one-dimensional marginal distribution \n",
    "\n",
    "png(paste(wd,'/freq_actual.png', sep =''), width = 1600, height = 1200, res = 200)\n",
    "plot(-nsize:nsize, as.numeric(prob_tables[[1]]), xlab ='', ylab = '', type = \"l\", ylim = c(0.0, 0.10))\n",
    "dev.off()"
   ]
  },
  {
   "cell_type": "code",
   "execution_count": 13,
   "metadata": {
    "vscode": {
     "languageId": "r"
    }
   },
   "outputs": [],
   "source": [
    "#--- Frequency plots of emprical one-dimensional distribution from each sampler\n",
    "\n",
    "for(i in 1:length(method_name)){\n",
    "  ndraw = 24000\n",
    "  re = readRDS(paste(getwd(), '/disgau', method_name[i], '.RData', sep=''))\n",
    "  sample = re[[1]][1,1,1,1:ndraw]\n",
    "  freq = table(sample)/ndraw\n",
    "  png(paste(wd, '/freq', display_names[i], '.png', sep = ''), width = 1600, height = 1200, res = 200)\n",
    "\n",
    "  plot(as.numeric(names(freq)), as.numeric(freq), type = \"l\",\n",
    "      ylim = c(0, 0.10), xlab='', ylab = '')\n",
    "\n",
    "  # Add remaining plots\n",
    "  for (j in 18:32) {\n",
    "      sample = re[[1]][j,1,1,1:ndraw]\n",
    "    freq <- table(sample)/ndraw\n",
    "    lines(as.numeric(names(freq)), as.numeric(freq))\n",
    "  }\n",
    "  dev.off()\n",
    "}"
   ]
  }
 ],
 "metadata": {
  "kernelspec": {
   "display_name": "R",
   "language": "R",
   "name": "ir"
  },
  "language_info": {
   "codemirror_mode": "r",
   "file_extension": ".r",
   "mimetype": "text/x-r-source",
   "name": "R",
   "pygments_lexer": "r",
   "version": "3.6.3"
  }
 },
 "nbformat": 4,
 "nbformat_minor": 2
}
